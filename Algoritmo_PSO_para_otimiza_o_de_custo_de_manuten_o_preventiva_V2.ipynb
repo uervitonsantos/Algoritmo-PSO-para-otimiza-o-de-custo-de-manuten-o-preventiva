{
  "nbformat": 4,
  "nbformat_minor": 0,
  "metadata": {
    "colab": {
      "provenance": [],
      "authorship_tag": "ABX9TyP2HpWgRenxaxcy6QynTa8S",
      "include_colab_link": true
    },
    "kernelspec": {
      "name": "python3",
      "display_name": "Python 3"
    },
    "language_info": {
      "name": "python"
    }
  },
  "cells": [
    {
      "cell_type": "markdown",
      "metadata": {
        "id": "view-in-github",
        "colab_type": "text"
      },
      "source": [
        "<a href=\"https://colab.research.google.com/github/uervitonsantos/Algoritmo-PSO-para-otimiza-o-de-custo-de-manuten-o-preventiva/blob/main/Algoritmo_PSO_para_otimiza_o_de_custo_de_manuten_o_preventiva_V2.ipynb\" target=\"_parent\"><img src=\"https://colab.research.google.com/assets/colab-badge.svg\" alt=\"Open In Colab\"/></a>"
      ]
    },
    {
      "cell_type": "code",
      "source": [
        "import numpy as np"
      ],
      "metadata": {
        "id": "M811jJ9aZuZ9"
      },
      "execution_count": 1,
      "outputs": []
    },
    {
      "cell_type": "code",
      "source": [
        "# Define a função de custo\n",
        "def custo_manutencao(x):\n",
        "    # Aqui você pode implementar o modelo de custo da sua manutenção preventiva\n",
        "    # Este exemplo usa uma função simples de teste\n",
        "    return 2*np.sum(x)"
      ],
      "metadata": {
        "id": "FvNFoBpLZt1J"
      },
      "execution_count": 2,
      "outputs": []
    },
    {
      "cell_type": "code",
      "source": [
        "# Define o tamanho da população e o número de dimensões\n",
        "tam_populacao = 10\n",
        "num_dimensoes = 5\n",
        "\n",
        "# Define os limites inferior e superior para as dimensões\n",
        "limites_inferiores = np.zeros(num_dimensoes)\n",
        "limites_superiores = np.ones(num_dimensoes) * 10"
      ],
      "metadata": {
        "id": "lKFmqUGuZ0xv"
      },
      "execution_count": 3,
      "outputs": []
    },
    {
      "cell_type": "code",
      "source": [
        "# Define a função de atualização da posição do enxame\n",
        "def atualiza_posicao_enxame(x, v, p_best, g_best, w, c1, c2):\n",
        "    r1 = np.random.rand(num_dimensoes)\n",
        "    r2 = np.random.rand(num_dimensoes)\n",
        "    v = w*v + c1*r1*(p_best - x) + c2*r2*(g_best - x)\n",
        "    x = x + v\n",
        "    return x, v"
      ],
      "metadata": {
        "id": "OBC_KDWmZ3Rd"
      },
      "execution_count": 4,
      "outputs": []
    },
    {
      "cell_type": "code",
      "source": [
        "# Define os parâmetros do PSO\n",
        "num_iteracoes = 100\n",
        "w = 0.5\n",
        "c1 = 1.5\n",
        "c2 = 1.5"
      ],
      "metadata": {
        "id": "kqMV62ORZ5lh"
      },
      "execution_count": 5,
      "outputs": []
    },
    {
      "cell_type": "code",
      "source": [
        "# Inicializa a população e a velocidade do enxame\n",
        "populacao = np.random.uniform(limites_inferiores, limites_superiores, (tam_populacao, num_dimensoes))\n",
        "velocidade = np.zeros((tam_populacao, num_dimensoes))"
      ],
      "metadata": {
        "id": "A0IGM89qZ75f"
      },
      "execution_count": 6,
      "outputs": []
    },
    {
      "cell_type": "code",
      "source": [
        "# Inicializa as melhores posições da população e a melhor posição global\n",
        "p_best = populacao.copy()\n",
        "custo_p_best = np.zeros(tam_populacao)\n",
        "for i in range(tam_populacao):\n",
        "    custo_p_best[i] = custo_manutencao(populacao[i])\n",
        "g_best_index = np.argmin(custo_p_best)\n",
        "g_best = p_best[g_best_index].copy()\n",
        "\n",
        "# Executa o PSO\n",
        "for i in range(num_iteracoes):\n",
        "    for j in range(tam_populacao):\n",
        "        custo_j = custo_manutencao(populacao[j])\n",
        "        if custo_j < custo_p_best[j]:\n",
        "            p_best[j] = populacao[j].copy()\n",
        "            custo_p_best[j] = custo_j\n",
        "        if custo_j < custo_manutencao(g_best):\n",
        "            g_best = populacao[j].copy()\n",
        "    populacao, velocidade = atualiza_posicao_enxame(populacao, velocidade, p_best, g_best, w, c1, c2)"
      ],
      "metadata": {
        "id": "vUnDclmEaAnI"
      },
      "execution_count": 7,
      "outputs": []
    },
    {
      "cell_type": "code",
      "source": [
        "# Exibe a solução encontrada\n",
        "print(\"Melhor posição encontrada:\", g_best)\n",
        "print(\"Custo mínimo encontrado:\", custo_manutencao(g_best))"
      ],
      "metadata": {
        "colab": {
          "base_uri": "https://localhost:8080/"
        },
        "id": "ObGBQpmTaDMN",
        "outputId": "f5a5cf33-d2b5-40ba-9b00-9d53de5780bc"
      },
      "execution_count": 8,
      "outputs": [
        {
          "output_type": "stream",
          "name": "stdout",
          "text": [
            "Melhor posição encontrada: [-10.24619801   0.72945175  -7.53157039 -21.88925565   6.34248601]\n",
            "Custo mínimo encontrado: -65.19017257688202\n"
          ]
        }
      ]
    }
  ]
}