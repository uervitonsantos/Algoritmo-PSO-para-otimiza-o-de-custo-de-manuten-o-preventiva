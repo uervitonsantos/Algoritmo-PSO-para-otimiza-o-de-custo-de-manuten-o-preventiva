{
  "nbformat": 4,
  "nbformat_minor": 0,
  "metadata": {
    "colab": {
      "provenance": [],
      "authorship_tag": "ABX9TyNDDU+aN1cMZKMRZBoNBqPI",
      "include_colab_link": true
    },
    "kernelspec": {
      "name": "python3",
      "display_name": "Python 3"
    },
    "language_info": {
      "name": "python"
    }
  },
  "cells": [
    {
      "cell_type": "markdown",
      "metadata": {
        "id": "view-in-github",
        "colab_type": "text"
      },
      "source": [
        "<a href=\"https://colab.research.google.com/github/uervitonsantos/Algoritmo-PSO-para-otimiza-o-de-custo-de-manuten-o-preventiva/blob/main/Algoritmo_PSO_para_otimiza%C3%A7%C3%A3o_de_custo_de_manuten%C3%A7%C3%A3o_preventiva.ipynb\" target=\"_parent\"><img src=\"https://colab.research.google.com/assets/colab-badge.svg\" alt=\"Open In Colab\"/></a>"
      ]
    },
    {
      "cell_type": "code",
      "source": [
        "!pip install pyswarms"
      ],
      "metadata": {
        "id": "IAOyTxZ6JM-T"
      },
      "execution_count": null,
      "outputs": []
    },
    {
      "cell_type": "code",
      "source": [
        "import pyswarms as ps\n",
        "import matplotlib.pyplot as plt\n",
        "import numpy as np\n",
        "import random"
      ],
      "metadata": {
        "id": "trkx7DeWGL9R"
      },
      "execution_count": 117,
      "outputs": []
    },
    {
      "cell_type": "code",
      "source": [
        "from pyswarms.utils.functions import single_obj as fx\n",
        "from pyswarms.utils.plotters import (plot_cost_history, plot_contour, plot_surface)\n",
        "from IPython.display import Image"
      ],
      "metadata": {
        "id": "k8EOzLi2UFjt"
      },
      "execution_count": 165,
      "outputs": []
    },
    {
      "cell_type": "code",
      "source": [
        "def objective_function(x):\n",
        "    list_of_severity = [1, 2, 3, 4, 5, 6, 7, 8, 9, 10]\n",
        "\n",
        "    cost_downtime  = 2.000 # custo por hora de inatividade do sistema\n",
        "    maintenance_severity = random.choice(list_of_severity) # o gral de severidade aplicado na manutenção pode varia em uma escala de [10...100] %\n",
        "    cost_maintenance  = (cost_downtime*maintenance_severity) # custo médio das manutenções\n",
        "    failure_times = random.randint(1, 365) # periodo em que ocorre a falha do sistema\n",
        "\n",
        "    # Calcula o valor da função para cada partícula.\n",
        "    cost_total = (cost_maintenance*failure_times)\n",
        "    return cost_total\n"
      ],
      "metadata": {
        "id": "Bo_brPJfJUZk"
      },
      "execution_count": 166,
      "outputs": []
    },
    {
      "cell_type": "code",
      "source": [
        "# Set-up hyperparameters\n",
        "options = {'c1': 0.5, 'c2': 0.3, 'w':0.9}\n",
        "# Call instance of PSO\n",
        "optimizer = ps.single.GlobalBestPSO(n_particles=50, dimensions=1, options=options)\n",
        "# Perform optimization\n",
        "cost, best_interval = optimizer.optimize(objective_function, iters=1000)"
      ],
      "metadata": {
        "colab": {
          "base_uri": "https://localhost:8080/"
        },
        "id": "Xtb5DS20KJ4q",
        "outputId": "62f4e22c-f689-4551-b934-cd8c94109efe"
      },
      "execution_count": 172,
      "outputs": [
        {
          "output_type": "stream",
          "name": "stderr",
          "text": [
            "2023-03-24 19:02:04,507 - pyswarms.single.global_best - INFO - Optimize for 1000 iters with {'c1': 0.5, 'c2': 0.3, 'w': 0.9}\n",
            "pyswarms.single.global_best: 100%|██████████|1000/1000, best_cost=2\n",
            "2023-03-24 19:02:06,187 - pyswarms.single.global_best - INFO - Optimization finished | best cost: 2.0, best pos: [1.28942985]\n"
          ]
        }
      ]
    },
    {
      "cell_type": "code",
      "source": [
        "# Print results\n",
        "print(f\"Intervalo de tempo ideal entre as atividades de manutenção: {best_interval}\")\n",
        "\n",
        "print('\\nCusto: ', cost)\n",
        "print('Posição: ', best_interval)"
      ],
      "metadata": {
        "colab": {
          "base_uri": "https://localhost:8080/"
        },
        "id": "QxA_vCBGJjAA",
        "outputId": "55249edc-c353-47fd-f847-1b463074dbc1"
      },
      "execution_count": 173,
      "outputs": [
        {
          "output_type": "stream",
          "name": "stdout",
          "text": [
            "Intervalo de tempo ideal entre as atividades de manutenção: [1.28942985]\n",
            "\n",
            "Custo:  2.0\n",
            "Posição:  [1.28942985]\n"
          ]
        }
      ]
    },
    {
      "cell_type": "code",
      "source": [
        "plot_cost_history(cost_history=optimizer.cost_history)\n",
        "plt.show()"
      ],
      "metadata": {
        "colab": {
          "base_uri": "https://localhost:8080/",
          "height": 513
        },
        "id": "Ba0U1VmS-1b5",
        "outputId": "954d34f0-2560-4c60-c68c-a9016e215a6f"
      },
      "execution_count": 169,
      "outputs": [
        {
          "output_type": "display_data",
          "data": {
            "text/plain": [
              "<Figure size 720x576 with 1 Axes>"
            ],
            "image/png": "[encoded data removed]"
          },
          "metadata": {
            "needs_background": "light"
          }
        }
      ]
    }
  ]
}