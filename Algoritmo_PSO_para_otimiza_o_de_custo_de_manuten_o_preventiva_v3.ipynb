{
  "nbformat": 4,
  "nbformat_minor": 0,
  "metadata": {
    "colab": {
      "provenance": [],
      "authorship_tag": "ABX9TyPSq0f3fzvHStPhUZ3n2D6K",
      "include_colab_link": true
    },
    "kernelspec": {
      "name": "python3",
      "display_name": "Python 3"
    },
    "language_info": {
      "name": "python"
    }
  },
  "cells": [
    {
      "cell_type": "markdown",
      "metadata": {
        "id": "view-in-github",
        "colab_type": "text"
      },
      "source": [
        "<a href=\"https://colab.research.google.com/github/uervitonsantos/Algoritmo-PSO-para-otimiza-o-de-custo-de-manuten-o-preventiva/blob/main/Algoritmo_PSO_para_otimiza_o_de_custo_de_manuten_o_preventiva_v3.ipynb\" target=\"_parent\"><img src=\"https://colab.research.google.com/assets/colab-badge.svg\" alt=\"Open In Colab\"/></a>"
      ]
    },
    {
      "cell_type": "markdown",
      "source": [
        "## Algoritmo de otimização de enxame de partículas\n",
        "\n",
        "Medium: https://medium.com/towards-data-science/complete-step-by-step-particle-swarm-optimization-algorithm-from-scratch-74471d064f91#caa0\n",
        "\n",
        "GitHub: https://github.com/greyhub/MSOLab/blob/main/PSO/pso-customize.ipynb\n",
        "\n",
        "PySwarms’s documentation: https://pyswarms.readthedocs.io/en/latest/examples/tutorials/custom_optimization_loop.html"
      ],
      "metadata": {
        "id": "veWo27pKomF9"
      }
    },
    {
      "cell_type": "code",
      "source": [
        "import numpy as np\n",
        "import random\n",
        "import matplotlib.pyplot as plt"
      ],
      "metadata": {
        "id": "M811jJ9aZuZ9"
      },
      "execution_count": 199,
      "outputs": []
    },
    {
      "cell_type": "code",
      "source": [
        "# A função custo_manutencao representa a função de custo que você deseja minimizar. \n",
        "# Ela recebe como entrada um vetor x que contém as variáveis de decisão do problema.\n",
        "\n",
        "\n",
        "\"\"\"\n",
        "    A função de custo custo_manutencao foi definida com base no artigo (An Integrated \n",
        "    Flow Shop Scheduling Problem of Preventive Maintenance and Degradation With an \n",
        "    Improved NSGA-II Algorithm, 2023), que trata de um problema de programação de manutenção \n",
        "    preventiva e degradação em uma fábrica de fluxo integrado. A função consiste em duas partes:\n",
        "\n",
        "    1 - A primeira parte (system_degradation) representa o custo de degradação do equipamento. A \n",
        "    variável (system_degradation) é calculada como uma função da diferença entre o tempo de uso atual do \n",
        "    equipamento e seu tempo de vida útil, com um termo de ajuste exponencial.\n",
        "\n",
        "    2 - A segunda parte (c1-c5) representa o custo de manutenção preventiva. Cada \n",
        "    variável c é calculada como uma função do tempo de uso do equipamento, com um \n",
        "    termo de ajuste exponencial.\n",
        "\n",
        "    O custo total é calculado somando-se as duas partes para todas as cinco variáveis. \n",
        "    O objetivo do problema é encontrar a combinação de valores para as variáveis x que \n",
        "    minimize a função de custo custo_manutencao.\n",
        "\"\"\"\n",
        "\n",
        "def custo_manutencao(x):\n",
        "\n",
        "    list_of_severity = [10, 20, 30, 40, 50, 60, 70, 80, 90, 100]\n",
        "\n",
        "    cost_downtime  = 4000 # custo por dia de inatividade do sistema\n",
        "    maintenance_severity = random.choice(list_of_severity) # o gral de severidade aplicado na manutenção pode varia em uma escala de [10...100] %\n",
        "    #cost_maintenance  = ((cost_downtime*maintenance_severity)/100) # custo médio das manutenções\n",
        "    cost_maintenance = np.maximum(0, (1 - np.exp(-x[0] / 20)) * x[0] * np.exp(-x[0] / 100)) # custo médio das manutenções\n",
        "    system_degradation = np.maximum(0, 1 - x[0] / 10) * np.exp(2 * np.power((x[0] - 10) / 10, 3))\n",
        " \n",
        "    custo = (system_degradation + cost_maintenance)\n",
        "\n",
        "    return custo\n"
      ],
      "metadata": {
        "id": "5T3G4hq7QuDn"
      },
      "execution_count": 200,
      "outputs": []
    },
    {
      "cell_type": "code",
      "source": [
        "# Define o tamanho da população e o número de dimensões\n",
        "tam_populacao = 10\n",
        "num_dimensoes = 5\n",
        "\n",
        "# Define os limites inferior e superior para as dimensões\n",
        "limites_inferiores = np.zeros(num_dimensoes)\n",
        "limites_superiores = np.ones(num_dimensoes) * 10"
      ],
      "metadata": {
        "id": "lKFmqUGuZ0xv"
      },
      "execution_count": 201,
      "outputs": []
    },
    {
      "cell_type": "code",
      "source": [
        "# Define a função de atualização da posição do enxame\n",
        "def atualiza_posicao_enxame(x, v, p_best, g_best, w, c1, c2):\n",
        "    r1 = np.random.rand(num_dimensoes)\n",
        "    r2 = np.random.rand(num_dimensoes)\n",
        "    v = w*v + c1*r1*(p_best - x) + c2*r2*(g_best - x)\n",
        "    x = x + v\n",
        "    return x, v"
      ],
      "metadata": {
        "id": "OBC_KDWmZ3Rd"
      },
      "execution_count": 202,
      "outputs": []
    },
    {
      "cell_type": "code",
      "source": [
        "# Define os parâmetros do PSO\n",
        "num_iteracoes = 20\n",
        "w = 0.5\n",
        "c1 = 1.5\n",
        "c2 = 1.5"
      ],
      "metadata": {
        "id": "kqMV62ORZ5lh"
      },
      "execution_count": 203,
      "outputs": []
    },
    {
      "cell_type": "code",
      "source": [
        "# Inicializa a população e a velocidade do enxame\n",
        "populacao = np.random.uniform(limites_inferiores, limites_superiores, (tam_populacao, num_dimensoes))\n",
        "velocidade = np.zeros((tam_populacao, num_dimensoes))"
      ],
      "metadata": {
        "id": "A0IGM89qZ75f"
      },
      "execution_count": 204,
      "outputs": []
    },
    {
      "cell_type": "code",
      "source": [
        "# Inicializa as melhores posições da população e a melhor posição global\n",
        "p_best = populacao.copy()\n",
        "custo_p_best = np.zeros(tam_populacao)\n",
        "for i in range(tam_populacao):\n",
        "    custo_p_best[i] = custo_manutencao(populacao[i])\n",
        "g_best_index = np.argmin(custo_p_best)\n",
        "g_best = p_best[g_best_index].copy()\n",
        "\n",
        "# Lista para armazenar o custo de cada iteração\n",
        "custo_minimo_iteracoes = []\n",
        "\n",
        "# Executa o PSO\n",
        "for i in range(num_iteracoes):\n",
        "    for j in range(tam_populacao):\n",
        "        custo_j = custo_manutencao(populacao[j])\n",
        "        if custo_j < custo_p_best[j]:\n",
        "            p_best[j] = populacao[j].copy()\n",
        "            custo_p_best[j] = custo_j\n",
        "        if custo_j < custo_manutencao(g_best):\n",
        "            g_best = populacao[j].copy()\n",
        "    populacao, velocidade = atualiza_posicao_enxame(populacao, velocidade, p_best, g_best, w, c1, c2)\n",
        "\n",
        "    # Adiciona o custo da iteração à lista\n",
        "    custo_minimo_iteracao = custo_manutencao(g_best)\n",
        "    custo_minimo_iteracoes.append(custo_minimo_iteracao)"
      ],
      "metadata": {
        "id": "vUnDclmEaAnI"
      },
      "execution_count": 205,
      "outputs": []
    },
    {
      "cell_type": "code",
      "source": [
        "# Exibe a solução encontrada\n",
        "print(\"Melhor posição encontrada:\", g_best)\n",
        "print(\"Custo mínimo encontrado:\", custo_manutencao(g_best))"
      ],
      "metadata": {
        "colab": {
          "base_uri": "https://localhost:8080/"
        },
        "id": "ObGBQpmTaDMN",
        "outputId": "7b4423cb-4dbc-4d3f-a3dc-6ae32c3ec38f"
      },
      "execution_count": 206,
      "outputs": [
        {
          "output_type": "stream",
          "name": "stdout",
          "text": [
            "Melhor posição encontrada: [-0.55887399  7.32618265 12.24895558  1.41604347  1.85388715]\n",
            "Custo mínimo encontrado: 0.11618160849134233\n"
          ]
        }
      ]
    },
    {
      "cell_type": "code",
      "source": [
        "# Plota o gráfico do custo em função do número de iterações\n",
        "plt.plot(range(1, num_iteracoes+1), custo_minimo_iteracoes, c='m')\n",
        "plt.xlabel('Número de iterações')\n",
        "plt.ylabel('Custo mínimo')\n",
        "plt.title('Convergência do PSO para minimização do custo de manutenção preventiva')\n",
        "plt.xlim(0)\n",
        "plt.show()"
      ],
      "metadata": {
        "colab": {
          "base_uri": "https://localhost:8080/",
          "height": 296
        },
        "id": "y0eiFjeldR_I",
        "outputId": "1f4bd0e2-a4e3-46ae-9c66-30b78f81317f"
      },
      "execution_count": 207,
      "outputs": [
        {
          "output_type": "display_data",
          "data": {
            "text/plain": [
              "<Figure size 432x288 with 1 Axes>"
            ],
            "image/png": "[encoded data removed]"
          },
          "metadata": {
            "needs_background": "light"
          }
        }
      ]
    }
  ]
}