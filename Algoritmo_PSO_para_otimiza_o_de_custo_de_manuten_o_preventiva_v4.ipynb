{
  "nbformat": 4,
  "nbformat_minor": 0,
  "metadata": {
    "colab": {
      "provenance": [],
      "mount_file_id": "199wU6riqUk6yQ4CM4g4qZ8Rf5Paj7ErH",
      "authorship_tag": "ABX9TyNuKrFXyFJbXNYxC2lCD4Qb",
      "include_colab_link": true
    },
    "kernelspec": {
      "name": "python3",
      "display_name": "Python 3"
    },
    "language_info": {
      "name": "python"
    }
  },
  "cells": [
    {
      "cell_type": "markdown",
      "metadata": {
        "id": "view-in-github",
        "colab_type": "text"
      },
      "source": [
        "<a href=\"https://colab.research.google.com/github/uervitonsantos/Algoritmo-PSO-para-otimiza-o-de-custo-de-manuten-o-preventiva/blob/main/Algoritmo_PSO_para_otimiza_o_de_custo_de_manuten_o_preventiva_v4.ipynb\" target=\"_parent\"><img src=\"https://colab.research.google.com/assets/colab-badge.svg\" alt=\"Open In Colab\"/></a>"
      ]
    },
    {
      "cell_type": "code",
      "execution_count": 28,
      "metadata": {
        "id": "3PQd0yY1PMUx"
      },
      "outputs": [],
      "source": [
        "import numpy as np\n",
        "import random\n",
        "from scipy.optimize import minimize\n",
        "from scipy.stats import poisson\n",
        "import pandas as pd\n",
        "import math\n",
        "import matplotlib.pyplot as plt"
      ]
    },
    {
      "cell_type": "code",
      "source": [
        "# Função de verossimilhança para distribuição de Poisson\n",
        "def poisson_likelihood(lam, data):\n",
        "    log_likelihood = np.sum(poisson.logpmf(data, lam))\n",
        "    return log_likelihood"
      ],
      "metadata": {
        "id": "iEAUirqdPR0_"
      },
      "execution_count": 29,
      "outputs": []
    },
    {
      "cell_type": "code",
      "source": [
        "# Função de verossimilhança para distribuição de lei de potência\n",
        "def powerlaw_likelihood(params, data):\n",
        "    alpha, xmin = params\n",
        "    n = len(data)\n",
        "    lam = (alpha - 1) / xmin * (data ** (1 - alpha))\n",
        "    log_likelihood = np.sum(np.log(lam))\n",
        "    return -log_likelihood"
      ],
      "metadata": {
        "id": "1be7OYMgPUoj"
      },
      "execution_count": 30,
      "outputs": []
    },
    {
      "cell_type": "code",
      "source": [
        "# Função de verossimilhança combinada para distribuição de lei de potência e Poisson\n",
        "def combined_likelihood(params, data):\n",
        "    alpha, xmin, lam = params\n",
        "    return powerlaw_likelihood([alpha, xmin], data) + poisson_likelihood(lam, data)"
      ],
      "metadata": {
        "id": "vf4BgT2GPYZh"
      },
      "execution_count": 31,
      "outputs": []
    },
    {
      "cell_type": "code",
      "source": [
        "# Dados observados de eventos raros\n",
        "events = pd.read_csv(\"/content/data.csv\", sep=\";\")\n",
        "events.head()"
      ],
      "metadata": {
        "colab": {
          "base_uri": "https://localhost:8080/",
          "height": 206
        },
        "id": "BZ9x1N2wPaOU",
        "outputId": "1221c6a5-64ec-4dbe-9f27-44ec2718f712"
      },
      "execution_count": 50,
      "outputs": [
        {
          "output_type": "execute_result",
          "data": {
            "text/plain": [
              "     t  k  c    n    s      T\n",
              "0   90  1  1  4.0  0.4    0.0\n",
              "1  110  1  1  0.0  0.5  150.0\n",
              "2  125  1  1  9.0  0.9  250.0\n",
              "3  135  1  1  2.0  0.2  500.0\n",
              "4  295  1  3  2.0  0.4  600.0"
            ],
            "text/html": [
              "\n",
              "  <div id=\"df-72e4a3f0-9028-4a17-b5c4-0bf4117e55fb\">\n",
              "    <div class=\"colab-df-container\">\n",
              "      <div>\n",
              "<style scoped>\n",
              "    .dataframe tbody tr th:only-of-type {\n",
              "        vertical-align: middle;\n",
              "    }\n",
              "\n",
              "    .dataframe tbody tr th {\n",
              "        vertical-align: top;\n",
              "    }\n",
              "\n",
              "    .dataframe thead th {\n",
              "        text-align: right;\n",
              "    }\n",
              "</style>\n",
              "<table border=\"1\" class=\"dataframe\">\n",
              "  <thead>\n",
              "    <tr style=\"text-align: right;\">\n",
              "      <th></th>\n",
              "      <th>t</th>\n",
              "      <th>k</th>\n",
              "      <th>c</th>\n",
              "      <th>n</th>\n",
              "      <th>s</th>\n",
              "      <th>T</th>\n",
              "    </tr>\n",
              "  </thead>\n",
              "  <tbody>\n",
              "    <tr>\n",
              "      <th>0</th>\n",
              "      <td>90</td>\n",
              "      <td>1</td>\n",
              "      <td>1</td>\n",
              "      <td>4.0</td>\n",
              "      <td>0.4</td>\n",
              "      <td>0.0</td>\n",
              "    </tr>\n",
              "    <tr>\n",
              "      <th>1</th>\n",
              "      <td>110</td>\n",
              "      <td>1</td>\n",
              "      <td>1</td>\n",
              "      <td>0.0</td>\n",
              "      <td>0.5</td>\n",
              "      <td>150.0</td>\n",
              "    </tr>\n",
              "    <tr>\n",
              "      <th>2</th>\n",
              "      <td>125</td>\n",
              "      <td>1</td>\n",
              "      <td>1</td>\n",
              "      <td>9.0</td>\n",
              "      <td>0.9</td>\n",
              "      <td>250.0</td>\n",
              "    </tr>\n",
              "    <tr>\n",
              "      <th>3</th>\n",
              "      <td>135</td>\n",
              "      <td>1</td>\n",
              "      <td>1</td>\n",
              "      <td>2.0</td>\n",
              "      <td>0.2</td>\n",
              "      <td>500.0</td>\n",
              "    </tr>\n",
              "    <tr>\n",
              "      <th>4</th>\n",
              "      <td>295</td>\n",
              "      <td>1</td>\n",
              "      <td>3</td>\n",
              "      <td>2.0</td>\n",
              "      <td>0.4</td>\n",
              "      <td>600.0</td>\n",
              "    </tr>\n",
              "  </tbody>\n",
              "</table>\n",
              "</div>\n",
              "      <button class=\"colab-df-convert\" onclick=\"convertToInteractive('df-72e4a3f0-9028-4a17-b5c4-0bf4117e55fb')\"\n",
              "              title=\"Convert this dataframe to an interactive table.\"\n",
              "              style=\"display:none;\">\n",
              "        \n",
              "  <svg xmlns=\"http://www.w3.org/2000/svg\" height=\"24px\"viewBox=\"0 0 24 24\"\n",
              "       width=\"24px\">\n",
              "    <path d=\"M0 0h24v24H0V0z\" fill=\"none\"/>\n",
              "    <path d=\"M18.56 5.44l.94 2.06.94-2.06 2.06-.94-2.06-.94-.94-2.06-.94 2.06-2.06.94zm-11 1L8.5 8.5l.94-2.06 2.06-.94-2.06-.94L8.5 2.5l-.94 2.06-2.06.94zm10 10l.94 2.06.94-2.06 2.06-.94-2.06-.94-.94-2.06-.94 2.06-2.06.94z\"/><path d=\"M17.41 7.96l-1.37-1.37c-.4-.4-.92-.59-1.43-.59-.52 0-1.04.2-1.43.59L10.3 9.45l-7.72 7.72c-.78.78-.78 2.05 0 2.83L4 21.41c.39.39.9.59 1.41.59.51 0 1.02-.2 1.41-.59l7.78-7.78 2.81-2.81c.8-.78.8-2.07 0-2.86zM5.41 20L4 18.59l7.72-7.72 1.47 1.35L5.41 20z\"/>\n",
              "  </svg>\n",
              "      </button>\n",
              "      \n",
              "  <style>\n",
              "    .colab-df-container {\n",
              "      display:flex;\n",
              "      flex-wrap:wrap;\n",
              "      gap: 12px;\n",
              "    }\n",
              "\n",
              "    .colab-df-convert {\n",
              "      background-color: #E8F0FE;\n",
              "      border: none;\n",
              "      border-radius: 50%;\n",
              "      cursor: pointer;\n",
              "      display: none;\n",
              "      fill: #1967D2;\n",
              "      height: 32px;\n",
              "      padding: 0 0 0 0;\n",
              "      width: 32px;\n",
              "    }\n",
              "\n",
              "    .colab-df-convert:hover {\n",
              "      background-color: #E2EBFA;\n",
              "      box-shadow: 0px 1px 2px rgba(60, 64, 67, 0.3), 0px 1px 3px 1px rgba(60, 64, 67, 0.15);\n",
              "      fill: #174EA6;\n",
              "    }\n",
              "\n",
              "    [theme=dark] .colab-df-convert {\n",
              "      background-color: #3B4455;\n",
              "      fill: #D2E3FC;\n",
              "    }\n",
              "\n",
              "    [theme=dark] .colab-df-convert:hover {\n",
              "      background-color: #434B5C;\n",
              "      box-shadow: 0px 1px 3px 1px rgba(0, 0, 0, 0.15);\n",
              "      filter: drop-shadow(0px 1px 2px rgba(0, 0, 0, 0.3));\n",
              "      fill: #FFFFFF;\n",
              "    }\n",
              "  </style>\n",
              "\n",
              "      <script>\n",
              "        const buttonEl =\n",
              "          document.querySelector('#df-72e4a3f0-9028-4a17-b5c4-0bf4117e55fb button.colab-df-convert');\n",
              "        buttonEl.style.display =\n",
              "          google.colab.kernel.accessAllowed ? 'block' : 'none';\n",
              "\n",
              "        async function convertToInteractive(key) {\n",
              "          const element = document.querySelector('#df-72e4a3f0-9028-4a17-b5c4-0bf4117e55fb');\n",
              "          const dataTable =\n",
              "            await google.colab.kernel.invokeFunction('convertToInteractive',\n",
              "                                                     [key], {});\n",
              "          if (!dataTable) return;\n",
              "\n",
              "          const docLinkHtml = 'Like what you see? Visit the ' +\n",
              "            '<a target=\"_blank\" href=https://colab.research.google.com/notebooks/data_table.ipynb>data table notebook</a>'\n",
              "            + ' to learn more about interactive tables.';\n",
              "          element.innerHTML = '';\n",
              "          dataTable['output_type'] = 'display_data';\n",
              "          await google.colab.output.renderOutput(dataTable, element);\n",
              "          const docLink = document.createElement('div');\n",
              "          docLink.innerHTML = docLinkHtml;\n",
              "          element.appendChild(docLink);\n",
              "        }\n",
              "      </script>\n",
              "    </div>\n",
              "  </div>\n",
              "  "
            ]
          },
          "metadata": {},
          "execution_count": 50
        }
      ]
    },
    {
      "cell_type": "code",
      "source": [
        "data = events['t']"
      ],
      "metadata": {
        "id": "q8QO0hbvPb2r"
      },
      "execution_count": 33,
      "outputs": []
    },
    {
      "cell_type": "code",
      "source": [
        "%%capture\n",
        "# Estimando os parâmetros da distribuição de lei de potência\n",
        "initial_guess = [1, 10]  # Chute inicial para os parâmetros alpha e xmin\n",
        "result_powerlaw = minimize(powerlaw_likelihood, initial_guess, args=(data,), method='BFGS')\n",
        "alpha_hat, xmin_hat = result_powerlaw.x"
      ],
      "metadata": {
        "id": "3lezZRwuPdld"
      },
      "execution_count": 34,
      "outputs": []
    },
    {
      "cell_type": "code",
      "source": [
        "# Estimando o parâmetro lambda da distribuição de Poisson usando a função de verossimilhança combinada\n",
        "def combined_likelihood_poisson(params, data):\n",
        "    alpha, xmin, lam = params\n",
        "    return combined_likelihood([alpha, xmin, lam], data)"
      ],
      "metadata": {
        "id": "6-GpOIiLPfVI"
      },
      "execution_count": 35,
      "outputs": []
    },
    {
      "cell_type": "code",
      "source": [
        "# Função de penalidade para restrição de limites para lambda\n",
        "def lambda_penalty(params, data, lambda_penalty_weight=1e6):\n",
        "    alpha, xmin, lam = params\n",
        "    lam_diff = lam - round(lam)  # Diferença entre lam e seu valor arredondado\n",
        "    penalty = lambda_penalty_weight * lam_diff**2  # Função de penalidade quadrática\n",
        "    return penalty"
      ],
      "metadata": {
        "id": "T-BQrJJRPhE3"
      },
      "execution_count": 36,
      "outputs": []
    },
    {
      "cell_type": "code",
      "source": [
        "# Função para minimizar a verossimilhança combinada com lambda como parâmetro inteiro\n",
        "def minimize_combined_likelihood_poisson(params, data):\n",
        "    alpha, xmin, lam = params\n",
        "    result_combined = minimize(\n",
        "        fun=lambda params: combined_likelihood_poisson(params, data) + lambda_penalty(params, data),\n",
        "        x0=[alpha_hat, xmin_hat, np.mean(data)],  # Chute inicial para os parâmetros alpha, xmin e lambda\n",
        "        method='BFGS'\n",
        "    )\n",
        "    alpha, xmin, lam = result_combined.x\n",
        "    lam = round(lam)  # Arredonda o valor de lambda para o inteiro mais próximo\n",
        "    return alpha, xmin, lam"
      ],
      "metadata": {
        "id": "tcbbeE8nPjXz"
      },
      "execution_count": 37,
      "outputs": []
    },
    {
      "cell_type": "code",
      "source": [
        "# Estimando o parâmetro lambda como o valor inteiro que minimiza a função de verossimilhança combinada\n",
        "alpha_hat, xmin_hat, lam_hat = minimize_combined_likelihood_poisson([alpha_hat, xmin_hat, np.mean(data)], data)"
      ],
      "metadata": {
        "id": "G0xd81THPlXv"
      },
      "execution_count": 38,
      "outputs": []
    },
    {
      "cell_type": "code",
      "source": [
        "print(\"Parâmetros estimados:\")\n",
        "print(\"Alpha (coeficiente de inclinação da lei de potência):\", alpha_hat)\n",
        "print(\"Xmin (valor mínimo do evento):\", xmin_hat)\n",
        "print(\"Lambda (taxa média de ocorrência da distribuição de Poisson):\", (lam_hat))"
      ],
      "metadata": {
        "colab": {
          "base_uri": "https://localhost:8080/"
        },
        "id": "SpGlk59wPm-g",
        "outputId": "d9a6cb31-c45c-4005-d3a5-5fa03a8c639a"
      },
      "execution_count": 39,
      "outputs": [
        {
          "output_type": "stream",
          "name": "stdout",
          "text": [
            "Parâmetros estimados:\n",
            "Alpha (coeficiente de inclinação da lei de potência): 1.0\n",
            "Xmin (valor mínimo do evento): 10.0\n",
            "Lambda (taxa média de ocorrência da distribuição de Poisson): 374\n"
          ]
        }
      ]
    },
    {
      "cell_type": "code",
      "source": [
        "# Valores estimados dos parâmetros\n",
        "parametros = ['alpha_hat', 'xmin_hat', 'lam_hat']\n",
        "valores = [alpha_hat, xmin_hat, lam_hat]\n",
        "\n",
        "# Plotando os resultados\n",
        "plt.figure(figsize=(8, 6))\n",
        "plt.plot(parametros, valores, marker='o')\n",
        "plt.xlabel('Parâmetro')\n",
        "plt.ylabel('Valor Estimado')\n",
        "plt.title('Estimativa dos Parâmetros')\n",
        "plt.grid(True)\n",
        "plt.show()"
      ],
      "metadata": {
        "colab": {
          "base_uri": "https://localhost:8080/",
          "height": 564
        },
        "id": "A0H5HsrvPpRN",
        "outputId": "f1a10e66-cd46-4e65-dafe-2bcaa4fd0846"
      },
      "execution_count": 40,
      "outputs": [
        {
          "output_type": "display_data",
          "data": {
            "text/plain": [
              "<Figure size 800x600 with 1 Axes>"
            ],
            "image/png": "[encoded data removed]"
          },
          "metadata": {}
        }
      ]
    },
    {
      "cell_type": "code",
      "source": [
        "# A função custo_manutencao representa a função de custo que você deseja minimizar. \n",
        "# Ela recebe como entrada um vetor x que contém as variáveis de decisão do problema.\n",
        "\n",
        "def custo_manutencao(x):\n",
        "\n",
        "    nivel_severidade = events['s'] # gral de severidade aplicado na manutenção\n",
        "    custo_dia  = 4000 # custo por dia de inatividade do sistema\n",
        "    custo_manutencao = events['c'] # custo médio das manutenções\n",
        "    # degradacao_sistema\n",
        "\n",
        "    # nivel_severidade = random.choice(nivel_severidade) # o gral de severidade aplicado na manutenção pode varia em uma escala de [10...100] %\n",
        "    #custo_manutencao  = ((custo_dia*nivel_severidade)/100) # custo médio das manutenções\n",
        "    custo_manutencao = np.maximum(0, (1 - np.exp(-x[0] / 20)) * x[0] * np.exp(-x[0] / 100)) # Essa linha calcula o custo médio das manutenções com base em um valor de entrada x[0]\n",
        "    system_degradation = np.maximum(0, 1 - x[0] / 10) * np.exp(2 * np.power((x[0] - 10) / 10, 3)) # Essa linha calcula um valor relacionado à degradação de um sistema com base em um valor de entrada x[0]\n",
        " \n",
        "    custo = (system_degradation + custo_manutencao)\n",
        "\n",
        "    return custo"
      ],
      "metadata": {
        "id": "JQX3Q4d1PsX0"
      },
      "execution_count": 41,
      "outputs": []
    },
    {
      "cell_type": "code",
      "source": [
        "# 1 - 'cost_maintenance = np.maximum(0, (1 - np.exp(-x[0] / 20)) * x[0] * np.exp(-x[0] / 100))': Essa linha calcula o custo médio das manutenções \n",
        "# com base em um valor de entrada x[0]. A fórmula é composta de várias operações matemáticas. Vamos entender cada uma delas:\n",
        "\n",
        "# * '(1 - np.exp(-x[0] / 20))': Calcula '1 - exp(-x[0] / 20)', onde 'exp()' é a função exponencial. Essa parte da fórmula está relacionada a uma \n",
        "# função de degradação ou desgaste do sistema, onde um valor maior de x[0] resulta em um custo menor de manutenção.\n",
        "\n",
        "# * 'x[0] * np.exp(-x[0] / 100)': Calcula 'x[0] * exp(-x[0] / 100)', onde 'x[0]' é multiplicado pela função exponencial. Essa parte da fórmula está \n",
        "# relacionada a um custo variável de manutenção que é afetado pelo valor de 'x[0]', com um decaimento exponencial.\n",
        "\n",
        "# 'np.maximum(0, ...)': Aplica uma função de máximo, onde o resultado da multiplicação anterior é comparado com zero e o maior valor é retornado. \n",
        "# Isso garante que o custo de manutenção seja sempre maior ou igual a zero.\n",
        "\n",
        "# 2 - 'system_degradation = np.maximum(0, 1 - x[0] / 10) * np.exp(2 * np.power((x[0] - 10) / 10, 3))': Essa linha calcula um valor relacionado à degradação \n",
        "# de um sistema com base em um valor de entrada 'x[0]'. A fórmula é composta de várias operações matemáticas. Vamos entender cada uma delas:\n",
        "\n",
        "# '1 - x[0] / 10': Calcula '1 - x[0] / 10, onde x[0]' é dividido por 10 e subtraído de 1. Essa parte da fórmula está relacionada a uma função de degradação \n",
        "# ou desgaste do sistema, onde um valor maior de 'x[0]' resulta em uma degradação menor do sistema.\n",
        "\n",
        "# * 'np.maximum(0, ...)': Aplica uma função de máximo, onde o resultado da subtração anterior é comparado com zero e o maior valor é retornado. Isso garante \n",
        "# que o valor de degradação do sistema seja sempre maior ou igual a zero.\n",
        "\n",
        "# * 'np.power((x[0] - 10) / 10, 3)': Calcula a potência de 3 do valor '(x[0] - 10) / 10, onde x[0]' é subtraído de 10 e o resultado é dividido por 10. Essa \n",
        "# parte da fórmula está relacionada a uma função de crescimento ou aumento da degradação do sistema.\n"
      ],
      "metadata": {
        "id": "SgNuG9XNPvFN"
      },
      "execution_count": 42,
      "outputs": []
    },
    {
      "cell_type": "code",
      "source": [
        "# Define o tamanho da população e o número de dimensões\n",
        "tam_populacao = 10\n",
        "num_dimensoes = 5\n",
        "\n",
        "# Define os limites inferior e superior para as dimensões\n",
        "limites_inferiores = np.zeros(num_dimensoes)\n",
        "limites_superiores = np.ones(num_dimensoes) * 10"
      ],
      "metadata": {
        "id": "nghkuTOhPxvi"
      },
      "execution_count": 43,
      "outputs": []
    },
    {
      "cell_type": "code",
      "source": [
        "# Define a função de atualização da posição do enxame\n",
        "def atualiza_posicao_enxame(x, v, p_best, g_best, w, c1, c2):\n",
        "    r1 = np.random.rand(num_dimensoes)\n",
        "    r2 = np.random.rand(num_dimensoes)\n",
        "    v = w*v + c1*r1*(p_best - x) + c2*r2*(g_best - x)\n",
        "    x = x + v\n",
        "    return x, v"
      ],
      "metadata": {
        "id": "eOaOvtrDPzcy"
      },
      "execution_count": 44,
      "outputs": []
    },
    {
      "cell_type": "code",
      "source": [
        "# Define os parâmetros do PSO\n",
        "num_iteracoes = 100\n",
        "w = 0.5\n",
        "c1 = 1.5\n",
        "c2 = 1.5"
      ],
      "metadata": {
        "id": "9_a7GNp0P1KU"
      },
      "execution_count": 45,
      "outputs": []
    },
    {
      "cell_type": "code",
      "source": [
        "# Inicializa a população e a velocidade do enxame\n",
        "populacao = np.random.uniform(limites_inferiores, limites_superiores, (tam_populacao, num_dimensoes))\n",
        "velocidade = np.zeros((tam_populacao, num_dimensoes))"
      ],
      "metadata": {
        "id": "GvRTDdemP27G"
      },
      "execution_count": 46,
      "outputs": []
    },
    {
      "cell_type": "code",
      "source": [
        "# Inicializa as melhores posições da população e a melhor posição global\n",
        "p_best = populacao.copy()\n",
        "custo_p_best = np.zeros(tam_populacao)\n",
        "for i in range(tam_populacao):\n",
        "    custo_p_best[i] = custo_manutencao(populacao[i])\n",
        "g_best_index = np.argmin(custo_p_best)\n",
        "g_best = p_best[g_best_index].copy()\n",
        "\n",
        "# Lista para armazenar o custo de cada iteração\n",
        "custo_minimo_iteracoes = []\n",
        "\n",
        "# Executa o PSO\n",
        "for i in range(num_iteracoes):\n",
        "    for j in range(tam_populacao):\n",
        "        custo_j = custo_manutencao(populacao[j])\n",
        "        if custo_j < custo_p_best[j]:\n",
        "            p_best[j] = populacao[j].copy()\n",
        "            custo_p_best[j] = custo_j\n",
        "        if custo_j < custo_manutencao(g_best):\n",
        "            g_best = populacao[j].copy()\n",
        "    populacao, velocidade = atualiza_posicao_enxame(populacao, velocidade, p_best, g_best, w, c1, c2)\n",
        "\n",
        "    # Adiciona o custo da iteração à lista\n",
        "    custo_minimo_iteracao = custo_manutencao(g_best)\n",
        "    custo_minimo_iteracoes.append(custo_minimo_iteracao)"
      ],
      "metadata": {
        "id": "7FdV1CggP5zs"
      },
      "execution_count": 47,
      "outputs": []
    },
    {
      "cell_type": "code",
      "source": [
        "# Exibe a solução encontrada\n",
        "print(\"Melhor posição encontrada:\", g_best)\n",
        "print(\"Custo mínimo encontrado:\", custo_manutencao(g_best))"
      ],
      "metadata": {
        "colab": {
          "base_uri": "https://localhost:8080/"
        },
        "id": "8qGvW3tqP7mm",
        "outputId": "bccbc5a7-bb70-4b3e-90e4-3f642845e884"
      },
      "execution_count": 48,
      "outputs": [
        {
          "output_type": "stream",
          "name": "stdout",
          "text": [
            "Melhor posição encontrada: [-0.55901336 -7.89945603  6.25294735  3.41521478  2.45362002]\n",
            "Custo mínimo encontrado: 0.11618160727263649\n"
          ]
        }
      ]
    },
    {
      "cell_type": "code",
      "source": [
        "# Plota o gráfico do custo em função do número de iterações\n",
        "fig_verify = plt.figure(figsize=(20, 5))\n",
        "plt.plot(range(1, num_iteracoes+1), custo_minimo_iteracoes, color=\"red\")\n",
        "plt.xlabel('Número de iterações')\n",
        "plt.ylabel('Custo mínimo')\n",
        "plt.title('Convergência do PSO para minimização do custo de manutenção preventiva')\n",
        "plt.xlim(0)\n",
        "plt.grid(True)\n",
        "plt.show()"
      ],
      "metadata": {
        "colab": {
          "base_uri": "https://localhost:8080/",
          "height": 376
        },
        "id": "9xNkE6OHP9V5",
        "outputId": "d486adb5-3c20-4d84-9142-1779984c3070"
      },
      "execution_count": 49,
      "outputs": [
        {
          "output_type": "display_data",
          "data": {
            "text/plain": [
              "<Figure size 2000x500 with 1 Axes>"
            ],
            "image/png": "[encoded data removed]"
          },
          "metadata": {}
        }
      ]
    },
    {
      "cell_type": "markdown",
      "source": [
        "**Github:** https://github.com/franciscoicmc/simulacao/blob/master/Processo-Poisson.ipynb\n",
        "\n",
        "**Medium:** https://medium.com/towards-data-science/complete-step-by-step-particle-swarm-optimization-algorithm-from-scratch-74471d064f91#caa0\n",
        "\n",
        "**GitHub:** https://github.com/greyhub/MSOLab/blob/main/PSO/pso-customize.ipynb\n",
        "\n",
        "**GitHub:** https://github.com/Azure/lstms_for_predictive_maintenance/blob/master/Deep%20Learning%20Basics%20for%20Predictive%20Maintenance.ipynb\n",
        "\n",
        "**GitHub:** https://github.com/umbertogriffo/Predictive-Maintenance-using-LSTM\n",
        "\n",
        "https://towardsdatascience.com/fine-tuning-the-strategy-using-a-particle-swarm-optimization-a5a2dc9bd5f1\n",
        "\n",
        "https://towardsdatascience.com/particle-swarm-optimization-visually-explained-46289eeb2e14\n",
        "\n",
        "https://gallery.azure.ai/Experiment/Predictive-Maintenance-Step-2A-of-3-train-and-evaluate-regression-models-2\n",
        "\n",
        "**PySwarms’s documentation:** https://pyswarms.readthedocs.io/en/latest/examples/tutorials/custom_optimization_loop.html\n",
        "\n",
        "https://www.youtube.com/watch?v=xEQv9YdvRiA"
      ],
      "metadata": {
        "id": "54NFGC5yQDYO"
      }
    }
  ]
}