{
  "nbformat": 4,
  "nbformat_minor": 0,
  "metadata": {
    "colab": {
      "provenance": [],
      "authorship_tag": "ABX9TyMozVEwt3asLz4iovKtQw2o",
      "include_colab_link": true
    },
    "kernelspec": {
      "name": "python3",
      "display_name": "Python 3"
    },
    "language_info": {
      "name": "python"
    }
  },
  "cells": [
    {
      "cell_type": "markdown",
      "metadata": {
        "id": "view-in-github",
        "colab_type": "text"
      },
      "source": [
        "<a href=\"https://colab.research.google.com/github/uervitonsantos/Algoritmo-PSO-para-otimiza-o-de-custo-de-manuten-o-preventiva/blob/main/Algoritmo_PSO_para_otimiza_o_de_custo_de_manuten_o_preventiva_v4.ipynb\" target=\"_parent\"><img src=\"https://colab.research.google.com/assets/colab-badge.svg\" alt=\"Open In Colab\"/></a>"
      ]
    },
    {
      "cell_type": "code",
      "execution_count": 289,
      "metadata": {
        "id": "QR2a5rbNkmVG"
      },
      "outputs": [],
      "source": [
        "import numpy as np\n",
        "import random\n",
        "from scipy.optimize import minimize\n",
        "from scipy.stats import poisson\n",
        "import math\n",
        "import matplotlib.pyplot as plt"
      ]
    },
    {
      "cell_type": "code",
      "source": [
        "# Função de verossimilhança para distribuição de Poisson\n",
        "def poisson_likelihood(lam, data):\n",
        "    log_likelihood = np.sum(poisson.logpmf(data, lam))\n",
        "    return log_likelihood"
      ],
      "metadata": {
        "id": "HzMjG09Hwwd0"
      },
      "execution_count": 290,
      "outputs": []
    },
    {
      "cell_type": "code",
      "source": [
        "# Função de verossimilhança para distribuição de lei de potência\n",
        "def powerlaw_likelihood(params, data):\n",
        "    alpha, xmin = params\n",
        "    n = len(data)\n",
        "    lam = (alpha - 1) / xmin * (data ** (1 - alpha))\n",
        "    log_likelihood = np.sum(np.log(lam))\n",
        "    return -log_likelihood"
      ],
      "metadata": {
        "id": "ZQzqcKCpxVPo"
      },
      "execution_count": 291,
      "outputs": []
    },
    {
      "cell_type": "code",
      "source": [
        "# Função de verossimilhança combinada para distribuição de lei de potência e Poisson\n",
        "def combined_likelihood(params, data):\n",
        "    alpha, xmin, lam = params\n",
        "    return powerlaw_likelihood([alpha, xmin], data) + poisson_likelihood(lam, data)"
      ],
      "metadata": {
        "id": "RbGZ2wb_xYeq"
      },
      "execution_count": 292,
      "outputs": []
    },
    {
      "cell_type": "code",
      "source": [
        "# Dados observados de eventos raros\n",
        "data = np.array([10, 20, 30, 40, 50, 60, 70, 80, 90, 100])"
      ],
      "metadata": {
        "id": "tdNe7lqTxhh5"
      },
      "execution_count": 293,
      "outputs": []
    },
    {
      "cell_type": "code",
      "source": [
        "# Estimando os parâmetros da distribuição de lei de potência\n",
        "initial_guess = [1, 10]  # Chute inicial para os parâmetros alpha e xmin\n",
        "result_powerlaw = minimize(powerlaw_likelihood, initial_guess, args=(data,), method='BFGS')\n",
        "alpha_hat, xmin_hat = result_powerlaw.x"
      ],
      "metadata": {
        "colab": {
          "base_uri": "https://localhost:8080/"
        },
        "id": "aSr2b0z8yo8D",
        "outputId": "36481a58-f6dd-4abd-8eb9-caec5dfd5798"
      },
      "execution_count": 294,
      "outputs": [
        {
          "output_type": "stream",
          "name": "stderr",
          "text": [
            "<ipython-input-291-b614e7906980>:6: RuntimeWarning: divide by zero encountered in log\n",
            "  log_likelihood = np.sum(np.log(lam))\n"
          ]
        }
      ]
    },
    {
      "cell_type": "code",
      "source": [
        "# Estimando o parâmetro lambda da distribuição de Poisson usando a função de verossimilhança combinada\n",
        "def combined_likelihood_poisson(params, data):\n",
        "    alpha, xmin, lam = params\n",
        "    return combined_likelihood([alpha, xmin, lam], data)"
      ],
      "metadata": {
        "id": "4tOnCROsytvE"
      },
      "execution_count": 295,
      "outputs": []
    },
    {
      "cell_type": "code",
      "source": [
        "# Função de penalidade para restrição de limites para lambda\n",
        "def lambda_penalty(params, data, lambda_penalty_weight=1e6):\n",
        "    alpha, xmin, lam = params\n",
        "    lam_diff = lam - round(lam)  # Diferença entre lam e seu valor arredondado\n",
        "    penalty = lambda_penalty_weight * lam_diff**2  # Função de penalidade quadrática\n",
        "    return penalty"
      ],
      "metadata": {
        "id": "LsYyeS1X3NUB"
      },
      "execution_count": 296,
      "outputs": []
    },
    {
      "cell_type": "code",
      "source": [
        "# Função para minimizar a verossimilhança combinada com lambda como parâmetro inteiro\n",
        "def minimize_combined_likelihood_poisson(params, data):\n",
        "    result_combined = minimize(\n",
        "        fun=lambda params: combined_likelihood_poisson(params, data) + lambda_penalty(params, data),\n",
        "        x0=[alpha_hat, xmin_hat, np.mean(data)],  # Chute inicial para os parâmetros alpha, xmin e lambda\n",
        "        method='BFGS'\n",
        "    )\n",
        "    alpha, xmin, lam = result_combined.x\n",
        "    lam = round(lam)  # Arredonda o valor de lambda para o inteiro mais próximo\n",
        "    return alpha, xmin, lam"
      ],
      "metadata": {
        "id": "hMxUt-0DyyPM"
      },
      "execution_count": 297,
      "outputs": []
    },
    {
      "cell_type": "code",
      "source": [
        "# Estimando o parâmetro lambda como o valor inteiro que minimiza a função de verossimilhança combinada\n",
        "initial_guess_combined = np.array([alpha_hat, xmin_hat, lam_hat])\n",
        "result_combined = minimize(combined_likelihood, initial_guess_combined, args=(data,), method='BFGS')\n",
        "\n",
        "alpha_hat, xmin_hat, lam_hat = result_combined.x"
      ],
      "metadata": {
        "colab": {
          "base_uri": "https://localhost:8080/"
        },
        "id": "l5syzOQ25j9r",
        "outputId": "b86b6139-1f38-4b3d-d324-c73c042ee969"
      },
      "execution_count": 298,
      "outputs": [
        {
          "output_type": "stream",
          "name": "stderr",
          "text": [
            "<ipython-input-291-b614e7906980>:6: RuntimeWarning: divide by zero encountered in log\n",
            "  log_likelihood = np.sum(np.log(lam))\n"
          ]
        }
      ]
    },
    {
      "cell_type": "code",
      "source": [
        "print(\"Parâmetros estimados:\")\n",
        "print(\"Alpha (coeficiente de inclinação da lei de potência):\", alpha_hat)\n",
        "print(\"Xmin (valor mínimo do evento):\", xmin_hat)\n",
        "print(\"Lambda (taxa média de ocorrência da distribuição de Poisson):\", round(lam_hat))"
      ],
      "metadata": {
        "colab": {
          "base_uri": "https://localhost:8080/"
        },
        "id": "bX8AO_nr8Msq",
        "outputId": "bd421ea6-f840-41f1-e178-331073a36534"
      },
      "execution_count": 299,
      "outputs": [
        {
          "output_type": "stream",
          "name": "stdout",
          "text": [
            "Parâmetros estimados:\n",
            "Alpha (coeficiente de inclinação da lei de potência): 1.0\n",
            "Xmin (valor mínimo do evento): 10.0\n",
            "Lambda (taxa média de ocorrência da distribuição de Poisson): -1034\n"
          ]
        }
      ]
    },
    {
      "cell_type": "code",
      "source": [
        "# Valores estimados dos parâmetros\n",
        "parametros = ['alpha_hat', 'xmin_hat', 'lam_hat']\n",
        "valores = [alpha_hat, xmin_hat, lam_hat]\n",
        "\n",
        "# Plotando os resultados\n",
        "plt.figure(figsize=(8, 6))\n",
        "plt.plot(parametros, valores, marker='o')\n",
        "plt.xlabel('Parâmetro')\n",
        "plt.ylabel('Valor Estimado')\n",
        "plt.title('Estimativa dos Parâmetros')\n",
        "plt.grid(True)\n",
        "plt.show()"
      ],
      "metadata": {
        "colab": {
          "base_uri": "https://localhost:8080/",
          "height": 564
        },
        "id": "uoOckbYV-N3Q",
        "outputId": "66272745-9d3d-4602-ff64-14ebe3a9ff51"
      },
      "execution_count": 300,
      "outputs": [
        {
          "output_type": "display_data",
          "data": {
            "text/plain": [
              "<Figure size 800x600 with 1 Axes>"
            ],
            "image/png": "[encoded data removed]"
          },
          "metadata": {}
        }
      ]
    },
    {
      "cell_type": "code",
      "source": [
        "# A função custo_manutencao representa a função de custo que você deseja minimizar. \n",
        "# Ela recebe como entrada um vetor x que contém as variáveis de decisão do problema.\n",
        "\n",
        "\n",
        "\"\"\"\n",
        "    A função de custo custo_manutencao foi definida com base no artigo (An Integrated \n",
        "    Flow Shop Scheduling Problem of Preventive Maintenance and Degradation With an \n",
        "    Improved NSGA-II Algorithm, 2023), que trata de um problema de programação de manutenção \n",
        "    preventiva e degradação em uma fábrica de fluxo integrado. A função consiste em duas partes:\n",
        "\n",
        "    1 - A primeira parte (system_degradation) representa o custo de degradação do equipamento. A \n",
        "    variável (system_degradation) é calculada como uma função da diferença entre o tempo de uso atual do \n",
        "    equipamento e seu tempo de vida útil, com um termo de ajuste exponencial.\n",
        "\n",
        "    2 - A segunda parte (c1-c5) representa o custo de manutenção preventiva. Cada \n",
        "    variável c é calculada como uma função do tempo de uso do equipamento, com um \n",
        "    termo de ajuste exponencial.\n",
        "\n",
        "    O custo total é calculado somando-se as duas partes para todas as cinco variáveis. \n",
        "    O objetivo do problema é encontrar a combinação de valores para as variáveis x que \n",
        "    minimize a função de custo custo_manutencao.\n",
        "\"\"\"\n",
        "\n",
        "def custo_manutencao(x):\n",
        "\n",
        "    list_of_severity = [10, 20, 30, 40, 50, 60, 70, 80, 90, 100]\n",
        "\n",
        "    cost_downtime  = 4000 # custo por dia de inatividade do sistema\n",
        "    maintenance_severity = random.choice(list_of_severity) # o gral de severidade aplicado na manutenção pode varia em uma escala de [10...100] %\n",
        "    #cost_maintenance  = ((cost_downtime*maintenance_severity)/100) # custo médio das manutenções\n",
        "    cost_maintenance = np.maximum(0, (1 - np.exp(-x[0] / 20)) * x[0] * np.exp(-x[0] / 100)) # custo médio das manutenções\n",
        "    system_degradation = np.maximum(0, 1 - x[0] / 10) * np.exp(2 * np.power((x[0] - 10) / 10, 3))\n",
        " \n",
        "    custo = (system_degradation + cost_maintenance)\n",
        "\n",
        "    return custo\n"
      ],
      "metadata": {
        "id": "5T3G4hq7QuDn"
      },
      "execution_count": 301,
      "outputs": []
    },
    {
      "cell_type": "code",
      "source": [
        "# Define o tamanho da população e o número de dimensões\n",
        "tam_populacao = 10\n",
        "num_dimensoes = 5\n",
        "\n",
        "# Define os limites inferior e superior para as dimensões\n",
        "limites_inferiores = np.zeros(num_dimensoes)\n",
        "limites_superiores = np.ones(num_dimensoes) * 10"
      ],
      "metadata": {
        "id": "uiEs31K3BHLw"
      },
      "execution_count": 302,
      "outputs": []
    },
    {
      "cell_type": "code",
      "source": [
        "# Define a função de atualização da posição do enxame\n",
        "def atualiza_posicao_enxame(x, v, p_best, g_best, w, c1, c2):\n",
        "    r1 = np.random.rand(num_dimensoes)\n",
        "    r2 = np.random.rand(num_dimensoes)\n",
        "    v = w*v + c1*r1*(p_best - x) + c2*r2*(g_best - x)\n",
        "    x = x + v\n",
        "    return x, v"
      ],
      "metadata": {
        "id": "txTpdPDBBKP4"
      },
      "execution_count": 303,
      "outputs": []
    },
    {
      "cell_type": "code",
      "source": [
        "# Define os parâmetros do PSO\n",
        "num_iteracoes = 100\n",
        "w = 0.5\n",
        "c1 = 1.5\n",
        "c2 = 1.5"
      ],
      "metadata": {
        "id": "wb-TVAM2BOQN"
      },
      "execution_count": 304,
      "outputs": []
    },
    {
      "cell_type": "code",
      "source": [
        "# Inicializa a população e a velocidade do enxame\n",
        "populacao = np.random.uniform(limites_inferiores, limites_superiores, (tam_populacao, num_dimensoes))\n",
        "velocidade = np.zeros((tam_populacao, num_dimensoes))"
      ],
      "metadata": {
        "id": "Wz9VysXCBRY2"
      },
      "execution_count": 305,
      "outputs": []
    },
    {
      "cell_type": "code",
      "source": [
        "# Inicializa as melhores posições da população e a melhor posição global\n",
        "p_best = populacao.copy()\n",
        "custo_p_best = np.zeros(tam_populacao)\n",
        "for i in range(tam_populacao):\n",
        "    custo_p_best[i] = custo_manutencao(populacao[i])\n",
        "g_best_index = np.argmin(custo_p_best)\n",
        "g_best = p_best[g_best_index].copy()\n",
        "\n",
        "# Lista para armazenar o custo de cada iteração\n",
        "custo_minimo_iteracoes = []\n",
        "\n",
        "# Executa o PSO\n",
        "for i in range(num_iteracoes):\n",
        "    for j in range(tam_populacao):\n",
        "        custo_j = custo_manutencao(populacao[j])\n",
        "        if custo_j < custo_p_best[j]:\n",
        "            p_best[j] = populacao[j].copy()\n",
        "            custo_p_best[j] = custo_j\n",
        "        if custo_j < custo_manutencao(g_best):\n",
        "            g_best = populacao[j].copy()\n",
        "    populacao, velocidade = atualiza_posicao_enxame(populacao, velocidade, p_best, g_best, w, c1, c2)\n",
        "\n",
        "    # Adiciona o custo da iteração à lista\n",
        "    custo_minimo_iteracao = custo_manutencao(g_best)\n",
        "    custo_minimo_iteracoes.append(custo_minimo_iteracao)"
      ],
      "metadata": {
        "id": "wxYZ-pblBVTr"
      },
      "execution_count": 306,
      "outputs": []
    },
    {
      "cell_type": "code",
      "source": [
        "# Exibe a solução encontrada\n",
        "print(\"Melhor posição encontrada:\", g_best)\n",
        "print(\"Custo mínimo encontrado:\", custo_manutencao(g_best))"
      ],
      "metadata": {
        "colab": {
          "base_uri": "https://localhost:8080/"
        },
        "id": "gzfQvjc_BYUc",
        "outputId": "f511dbfd-d9ac-49cb-c446-dad0516a8ae2"
      },
      "execution_count": 307,
      "outputs": [
        {
          "output_type": "stream",
          "name": "stdout",
          "text": [
            "Melhor posição encontrada: [-0.55901337  8.78614574  4.65513775  2.56468592  5.43995419]\n",
            "Custo mínimo encontrado: 0.11618160727263648\n"
          ]
        }
      ]
    },
    {
      "cell_type": "code",
      "source": [
        "# Plota o gráfico do custo em função do número de iterações\n",
        "fig_verify = plt.figure(figsize=(20, 5))\n",
        "plt.plot(range(1, num_iteracoes+1), custo_minimo_iteracoes, color=\"red\")\n",
        "plt.xlabel('Número de iterações')\n",
        "plt.ylabel('Custo mínimo')\n",
        "plt.title('Convergência do PSO para minimização do custo de manutenção preventiva')\n",
        "plt.xlim(0)\n",
        "plt.grid(True)\n",
        "plt.show()"
      ],
      "metadata": {
        "colab": {
          "base_uri": "https://localhost:8080/",
          "height": 398
        },
        "id": "abttLs13Bczl",
        "outputId": "2966222f-8d5f-465a-e8de-57124c090acc"
      },
      "execution_count": 308,
      "outputs": [
        {
          "output_type": "display_data",
          "data": {
            "text/plain": [
              "<Figure size 2000x500 with 1 Axes>"
            ],
            "image/png": "[encoded data removed]"
          },
          "metadata": {}
        }
      ]
    }
  ]
}